{
 "cells": [
  {
   "cell_type": "markdown",
   "id": "2d74704a-4144-447f-8436-b053360cb6fb",
   "metadata": {},
   "source": [
    "# TNT ResNet Model Trained on 100 Tiled Images"
   ]
  },
  {
   "cell_type": "code",
   "execution_count": 2,
   "id": "f35b71c5-273f-47ec-ae33-bd3365233114",
   "metadata": {},
   "outputs": [
    {
     "name": "stderr",
     "output_type": "stream",
     "text": [
      "2025-02-15 15:19:46.762687: I tensorflow/core/platform/cpu_feature_guard.cc:210] This TensorFlow binary is optimized to use available CPU instructions in performance-critical operations.\n",
      "To enable the following instructions: AVX2 FMA, in other operations, rebuild TensorFlow with the appropriate compiler flags.\n"
     ]
    }
   ],
   "source": [
    "import matplotlib.pyplot as plt\n",
    "\n",
    "import tensorflow as tf\n",
    "from tensorflow.keras.applications import ResNet50\n",
    "from tensorflow.keras.applications import VGG16\n",
    "from tensorflow.keras.models import Model\n",
    "from tensorflow.keras.layers import Dense, Flatten, Dropout, GlobalAveragePooling2D\n",
    "from tensorflow.keras.preprocessing.image import ImageDataGenerator\n",
    "from tensorflow.keras.optimizers import Adam\n",
    "from tensorflow.keras.regularizers import l2\n",
    "from tensorflow.keras.callbacks import ReduceLROnPlateau, EarlyStopping"
   ]
  },
  {
   "cell_type": "code",
   "execution_count": 3,
   "id": "6faa622c-1d36-4341-9c40-180d1ebcad8e",
   "metadata": {},
   "outputs": [],
   "source": [
    "# Load VGG16 without the top (classification) layers\n",
    "base_model = ResNet50(weights=\"imagenet\", include_top=False, input_shape=(256, 256, 3))"
   ]
  },
  {
   "cell_type": "code",
   "execution_count": 4,
   "id": "f2e11f88-ea64-4268-b7e0-71d7cae65110",
   "metadata": {},
   "outputs": [],
   "source": [
    "# Freeze the convolutional base (optional, speeds up training)\n",
    "base_model.trainable = False"
   ]
  },
  {
   "cell_type": "code",
   "execution_count": 5,
   "id": "62e4df69-61e1-4263-bdb2-0c6cebf5b3d7",
   "metadata": {},
   "outputs": [],
   "source": [
    "x = GlobalAveragePooling2D()(base_model.output)\n",
    "x = Dense(512, activation=\"relu\")(x)\n",
    "x = Dropout(0.6)(x)\n",
    "x = Dense(256, activation=\"relu\")(x)\n",
    "x = Dropout(0.6)(x)\n",
    "output_layer = Dense(1, activation='sigmoid')(x) \n",
    "\n",
    "model = Model(inputs=base_model.input, outputs=output_layer)"
   ]
  },
  {
   "cell_type": "code",
   "execution_count": 6,
   "id": "33a4058c-2af4-462a-9de4-801acf338ff6",
   "metadata": {},
   "outputs": [],
   "source": [
    "lr_scheduler = ReduceLROnPlateau(\n",
    "    monitor=\"val_accuracy\",  # 🔹 Monitor validation precision instead of loss\n",
    "    factor=0.5,              # Reduce LR by 50% if no improvement\n",
    "    patience=3,              # Wait 3 epochs before reducing\n",
    "    mode=\"max\",              # 🔹 Higher precision is better\n",
    "    min_lr=1e-6              # Don't reduce below this value\n",
    ")"
   ]
  },
  {
   "cell_type": "code",
   "execution_count": 7,
   "id": "5a656b8a-b83a-4a05-8756-448a257d09a0",
   "metadata": {},
   "outputs": [],
   "source": [
    "# Early stopping\n",
    "early_stopping = EarlyStopping(\n",
    "    monitor=\"val_loss\",\n",
    "    patience=5,\n",
    "    restore_best_weights=True\n",
    ")"
   ]
  },
  {
   "cell_type": "code",
   "execution_count": 8,
   "id": "a9720200-22b8-464e-a6fb-d2ad2d023c7d",
   "metadata": {},
   "outputs": [],
   "source": [
    "model.compile(optimizer=Adam(learning_rate=0.1), loss=\"binary_crossentropy\", metrics=[\"precision\"])"
   ]
  },
  {
   "cell_type": "code",
   "execution_count": 9,
   "id": "13feb1e1-f6c7-4f94-baa7-064ff005b999",
   "metadata": {},
   "outputs": [],
   "source": [
    "# Define directories\n",
    "train_dir = '/Users/danieldobrenz/Documents/DATA SCIENCE DOCUMENTS/DATA/Magnimind/AI Imaging/MedImgIntro-WORKSHOP-main/Second Projects/TNT Project/100_no_label_256'"
   ]
  },
  {
   "cell_type": "code",
   "execution_count": 10,
   "id": "52ebacb1-a718-4dd0-859c-30328aeb48e8",
   "metadata": {},
   "outputs": [],
   "source": [
    "# Data augmentation\n",
    "train_datagen = ImageDataGenerator(\n",
    "    rescale=1./255,\n",
    "    rotation_range=40,\n",
    "    width_shift_range=0.3,\n",
    "    height_shift_range=0.3,\n",
    "    shear_range=0.3,\n",
    "    zoom_range=0.3,\n",
    "    horizontal_flip=True,\n",
    "    fill_mode=\"nearest\"\n",
    ")"
   ]
  },
  {
   "cell_type": "code",
   "execution_count": 11,
   "id": "3932b22e-f868-444c-8154-235619189baf",
   "metadata": {},
   "outputs": [
    {
     "name": "stdout",
     "output_type": "stream",
     "text": [
      "Found 100 images belonging to 2 classes.\n"
     ]
    }
   ],
   "source": [
    "# Load training data\n",
    "train_generator = train_datagen.flow_from_directory(\n",
    "    train_dir,\n",
    "    target_size=(256, 256),  # VGG16 input size\n",
    "    batch_size=32,\n",
    "    class_mode=\"binary\",  # Binary classification\n",
    ")"
   ]
  },
  {
   "cell_type": "code",
   "execution_count": 12,
   "id": "d4947b79-d663-4f34-8bb2-a302101f5907",
   "metadata": {},
   "outputs": [
    {
     "name": "stdout",
     "output_type": "stream",
     "text": [
      "Found 100 images belonging to 2 classes.\n"
     ]
    }
   ],
   "source": [
    "# Load validation data\n",
    "val_generator = train_datagen.flow_from_directory(\n",
    "    train_dir,\n",
    "    target_size=(256, 256),\n",
    "    batch_size=32,\n",
    "    class_mode=\"binary\",\n",
    ")"
   ]
  },
  {
   "cell_type": "code",
   "execution_count": 13,
   "id": "833c41e1-6deb-4b20-844c-4a8b41ce9c2c",
   "metadata": {
    "scrolled": true
   },
   "outputs": [
    {
     "name": "stderr",
     "output_type": "stream",
     "text": [
      "/opt/anaconda3/lib/python3.11/site-packages/keras/src/trainers/data_adapters/py_dataset_adapter.py:121: UserWarning: Your `PyDataset` class should call `super().__init__(**kwargs)` in its constructor. `**kwargs` can include `workers`, `use_multiprocessing`, `max_queue_size`. Do not pass these arguments to `fit()`, as they will be ignored.\n",
      "  self._warn_if_super_not_called()\n"
     ]
    },
    {
     "name": "stdout",
     "output_type": "stream",
     "text": [
      "Epoch 1/50\n",
      "\u001b[1m4/4\u001b[0m \u001b[32m━━━━━━━━━━━━━━━━━━━━\u001b[0m\u001b[37m\u001b[0m \u001b[1m0s\u001b[0m 2s/step - loss: 657.0871 - precision: 0.6458"
     ]
    },
    {
     "name": "stderr",
     "output_type": "stream",
     "text": [
      "/opt/anaconda3/lib/python3.11/site-packages/keras/src/callbacks/callback_list.py:145: UserWarning: Learning rate reduction is conditioned on metric `val_accuracy` which is not available. Available metrics are: loss,precision,val_loss,val_precision,learning_rate.\n",
      "  callback.on_epoch_end(epoch, logs)\n"
     ]
    },
    {
     "name": "stdout",
     "output_type": "stream",
     "text": [
      "\u001b[1m4/4\u001b[0m \u001b[32m━━━━━━━━━━━━━━━━━━━━\u001b[0m\u001b[37m\u001b[0m \u001b[1m21s\u001b[0m 5s/step - loss: 709.8940 - precision: 0.6389 - val_loss: 1.9263 - val_precision: 0.0000e+00 - learning_rate: 0.1000\n",
      "Epoch 2/50\n",
      "\u001b[1m4/4\u001b[0m \u001b[32m━━━━━━━━━━━━━━━━━━━━\u001b[0m\u001b[37m\u001b[0m \u001b[1m13s\u001b[0m 4s/step - loss: 15.4471 - precision: 0.8007 - val_loss: 0.7381 - val_precision: 0.0000e+00 - learning_rate: 0.1000\n",
      "Epoch 3/50\n",
      "\u001b[1m4/4\u001b[0m \u001b[32m━━━━━━━━━━━━━━━━━━━━\u001b[0m\u001b[37m\u001b[0m \u001b[1m13s\u001b[0m 4s/step - loss: 1.7829 - precision: 0.6743 - val_loss: 0.6604 - val_precision: 0.6900 - learning_rate: 0.1000\n",
      "Epoch 4/50\n",
      "\u001b[1m4/4\u001b[0m \u001b[32m━━━━━━━━━━━━━━━━━━━━\u001b[0m\u001b[37m\u001b[0m \u001b[1m14s\u001b[0m 4s/step - loss: 0.6612 - precision: 0.7065 - val_loss: 0.6314 - val_precision: 0.6900 - learning_rate: 0.1000\n",
      "Epoch 5/50\n",
      "\u001b[1m4/4\u001b[0m \u001b[32m━━━━━━━━━━━━━━━━━━━━\u001b[0m\u001b[37m\u001b[0m \u001b[1m13s\u001b[0m 4s/step - loss: 0.6389 - precision: 0.7024 - val_loss: 0.6543 - val_precision: 0.6900 - learning_rate: 0.1000\n",
      "Epoch 6/50\n",
      "\u001b[1m4/4\u001b[0m \u001b[32m━━━━━━━━━━━━━━━━━━━━\u001b[0m\u001b[37m\u001b[0m \u001b[1m14s\u001b[0m 4s/step - loss: 0.7309 - precision: 0.6921 - val_loss: 0.6208 - val_precision: 0.6900 - learning_rate: 0.1000\n",
      "Epoch 7/50\n",
      "\u001b[1m4/4\u001b[0m \u001b[32m━━━━━━━━━━━━━━━━━━━━\u001b[0m\u001b[37m\u001b[0m \u001b[1m13s\u001b[0m 4s/step - loss: 0.6041 - precision: 0.7412 - val_loss: 0.6241 - val_precision: 0.6900 - learning_rate: 0.1000\n",
      "Epoch 8/50\n",
      "\u001b[1m4/4\u001b[0m \u001b[32m━━━━━━━━━━━━━━━━━━━━\u001b[0m\u001b[37m\u001b[0m \u001b[1m13s\u001b[0m 4s/step - loss: 0.7861 - precision: 0.6977 - val_loss: 4.1008 - val_precision: 0.6900 - learning_rate: 0.1000\n",
      "Epoch 9/50\n",
      "\u001b[1m4/4\u001b[0m \u001b[32m━━━━━━━━━━━━━━━━━━━━\u001b[0m\u001b[37m\u001b[0m \u001b[1m13s\u001b[0m 4s/step - loss: 1.6341 - precision: 0.7356 - val_loss: 0.6195 - val_precision: 0.6900 - learning_rate: 0.1000\n",
      "Epoch 10/50\n",
      "\u001b[1m4/4\u001b[0m \u001b[32m━━━━━━━━━━━━━━━━━━━━\u001b[0m\u001b[37m\u001b[0m \u001b[1m13s\u001b[0m 4s/step - loss: 0.5850 - precision: 0.7281 - val_loss: 0.6213 - val_precision: 0.6900 - learning_rate: 0.1000\n",
      "Epoch 11/50\n",
      "\u001b[1m4/4\u001b[0m \u001b[32m━━━━━━━━━━━━━━━━━━━━\u001b[0m\u001b[37m\u001b[0m \u001b[1m13s\u001b[0m 4s/step - loss: 0.6288 - precision: 0.6823 - val_loss: 0.6271 - val_precision: 0.6900 - learning_rate: 0.1000\n",
      "Epoch 12/50\n",
      "\u001b[1m4/4\u001b[0m \u001b[32m━━━━━━━━━━━━━━━━━━━━\u001b[0m\u001b[37m\u001b[0m \u001b[1m13s\u001b[0m 4s/step - loss: 0.6094 - precision: 0.7137 - val_loss: 0.6225 - val_precision: 0.6900 - learning_rate: 0.1000\n",
      "Epoch 13/50\n",
      "\u001b[1m4/4\u001b[0m \u001b[32m━━━━━━━━━━━━━━━━━━━━\u001b[0m\u001b[37m\u001b[0m \u001b[1m13s\u001b[0m 4s/step - loss: 0.6330 - precision: 0.6802 - val_loss: 0.6192 - val_precision: 0.6900 - learning_rate: 0.1000\n",
      "Epoch 14/50\n",
      "\u001b[1m4/4\u001b[0m \u001b[32m━━━━━━━━━━━━━━━━━━━━\u001b[0m\u001b[37m\u001b[0m \u001b[1m13s\u001b[0m 4s/step - loss: 0.6247 - precision: 0.6894 - val_loss: 0.6232 - val_precision: 0.6900 - learning_rate: 0.1000\n",
      "Epoch 15/50\n",
      "\u001b[1m4/4\u001b[0m \u001b[32m━━━━━━━━━━━━━━━━━━━━\u001b[0m\u001b[37m\u001b[0m \u001b[1m13s\u001b[0m 4s/step - loss: 0.6932 - precision: 0.6500 - val_loss: 0.6192 - val_precision: 0.6900 - learning_rate: 0.1000\n",
      "Epoch 16/50\n",
      "\u001b[1m4/4\u001b[0m \u001b[32m━━━━━━━━━━━━━━━━━━━━\u001b[0m\u001b[37m\u001b[0m \u001b[1m13s\u001b[0m 4s/step - loss: 0.6128 - precision: 0.7031 - val_loss: 0.6196 - val_precision: 0.6900 - learning_rate: 0.1000\n",
      "Epoch 17/50\n",
      "\u001b[1m4/4\u001b[0m \u001b[32m━━━━━━━━━━━━━━━━━━━━\u001b[0m\u001b[37m\u001b[0m \u001b[1m13s\u001b[0m 4s/step - loss: 0.6669 - precision: 0.6891 - val_loss: 0.6446 - val_precision: 0.6900 - learning_rate: 0.1000\n",
      "Epoch 18/50\n",
      "\u001b[1m4/4\u001b[0m \u001b[32m━━━━━━━━━━━━━━━━━━━━\u001b[0m\u001b[37m\u001b[0m \u001b[1m13s\u001b[0m 4s/step - loss: 0.6402 - precision: 0.6892 - val_loss: 0.6442 - val_precision: 0.6900 - learning_rate: 0.1000\n",
      "Epoch 19/50\n",
      "\u001b[1m4/4\u001b[0m \u001b[32m━━━━━━━━━━━━━━━━━━━━\u001b[0m\u001b[37m\u001b[0m \u001b[1m13s\u001b[0m 4s/step - loss: 0.6147 - precision: 0.7531 - val_loss: 0.6216 - val_precision: 0.6900 - learning_rate: 0.1000\n",
      "Epoch 20/50\n",
      "\u001b[1m4/4\u001b[0m \u001b[32m━━━━━━━━━━━━━━━━━━━━\u001b[0m\u001b[37m\u001b[0m \u001b[1m13s\u001b[0m 4s/step - loss: 0.6324 - precision: 0.6646 - val_loss: 0.6192 - val_precision: 0.6900 - learning_rate: 0.1000\n"
     ]
    }
   ],
   "source": [
    "# Train the model\n",
    "history = model.fit(\n",
    "    train_generator,\n",
    "    validation_data=val_generator,\n",
    "    epochs=50,\n",
    "    callbacks=[lr_scheduler, early_stopping]\n",
    ")"
   ]
  },
  {
   "cell_type": "code",
   "execution_count": 14,
   "id": "a574b5f3-f8fb-4de3-a2cb-99cd84220c9f",
   "metadata": {},
   "outputs": [
    {
     "data": {
      "image/png": "[encoded data removed]",
      "text/plain": [
       "<Figure size 1200x500 with 2 Axes>"
      ]
     },
     "metadata": {},
     "output_type": "display_data"
    }
   ],
   "source": [
    "# Plot training & validation loss and accuracy\n",
    "def plot_training_history(history):\n",
    "    plt.figure(figsize=(12, 5))\n",
    "\n",
    "    # Plot loss\n",
    "    plt.subplot(1, 2, 1)\n",
    "    plt.plot(history.history[\"loss\"], label=\"Training Loss\")\n",
    "    plt.plot(history.history[\"val_loss\"], label=\"Validation Loss\")\n",
    "    plt.xlabel(\"Epochs\")\n",
    "    plt.ylabel(\"Loss\")\n",
    "    plt.title(\"Loss Over Epochs\")\n",
    "    plt.legend()\n",
    "\n",
    "    # Plot precision\n",
    "    plt.subplot(1, 2, 2)\n",
    "    plt.plot(history.history['precision'], label=\" Training Precision\")\n",
    "    plt.plot(history.history['val_precision'], label=\"Validation Precision\")\n",
    "    plt.xlabel(\"Epochs\")\n",
    "    plt.ylabel(\"Precision\")\n",
    "    plt.title(\"Precision Over Epochs\")\n",
    "    plt.legend()\n",
    "\n",
    "    # Show plot\n",
    "    plt.show()\n",
    "\n",
    "# Call function to plot\n",
    "plot_training_history(history)"
   ]
  },
  {
   "cell_type": "markdown",
   "id": "ac8bc2d9-0191-4183-935a-4ab6dc4bbbb9",
   "metadata": {},
   "source": [
    "# VGG16 Model Results"
   ]
  },
  {
   "cell_type": "markdown",
   "id": "1386341a-b1d3-420f-808e-7612b4c6e7d2",
   "metadata": {},
   "source": [
    "1. Learning Rate:0.1\n",
    "2. Validation Split: 70%/30%\n",
    "3. Batch Size: 64\n",
    "4. Epochs: 20"
   ]
  },
  {
   "cell_type": "markdown",
   "id": "a8a376f2-e886-40e4-9b19-4998d3c7369d",
   "metadata": {},
   "source": [
    "![Alt Text](01_100_precision.png)"
   ]
  },
  {
   "cell_type": "markdown",
   "id": "847f132f-0718-468d-bdcb-82adae68d412",
   "metadata": {},
   "source": [
    "1. Learning Rate:0.01\n",
    "2. Validation Split: 80%/20%\n",
    "3. Batch Size: 64\n",
    "4. Epochs: 20"
   ]
  },
  {
   "cell_type": "markdown",
   "id": "c5f7c692-6643-4988-8a2e-26aad6812668",
   "metadata": {},
   "source": [
    "![Alt Text](02_100_precision.png)"
   ]
  },
  {
   "cell_type": "markdown",
   "id": "6ba04c2a-e064-4f5e-9e46-709e959aab69",
   "metadata": {},
   "source": [
    "1. Learning Rate:0.0001\n",
    "2. Validation Split: 80%/20%\n",
    "3. Batch Size: 64\n",
    "4. Epochs: 20"
   ]
  },
  {
   "cell_type": "markdown",
   "id": "634388c3-4155-4214-a5a6-93eb2640fccb",
   "metadata": {},
   "source": [
    "![Alt Text](03_100_precision.png)"
   ]
  },
  {
   "cell_type": "markdown",
   "id": "58c2d10c-22e6-4769-ae43-911132812f11",
   "metadata": {},
   "source": [
    "1. Learning Rate:0.00001\n",
    "2. Validation Split: 80%/20%\n",
    "3. Batch Size: 64\n",
    "4. Epochs: 50"
   ]
  },
  {
   "cell_type": "markdown",
   "id": "7d4a3dfc-c243-466d-a142-effceaa3c350",
   "metadata": {},
   "source": [
    "![Alt Text](04_100_precision.png)"
   ]
  }
 ],
 "metadata": {
  "kernelspec": {
   "display_name": "Python 3 (ipykernel)",
   "language": "python",
   "name": "python3"
  },
  "language_info": {
   "codemirror_mode": {
    "name": "ipython",
    "version": 3
   },
   "file_extension": ".py",
   "mimetype": "text/x-python",
   "name": "python",
   "nbconvert_exporter": "python",
   "pygments_lexer": "ipython3",
   "version": "3.11.7"
  }
 },
 "nbformat": 4,
 "nbformat_minor": 5
}
